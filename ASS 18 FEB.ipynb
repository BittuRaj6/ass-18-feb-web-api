{
 "cells": [
  {
   "cell_type": "code",
   "execution_count": 2,
   "id": "8dc81b39-bb57-4b37-920a-f77f9b46a38c",
   "metadata": {},
   "outputs": [],
   "source": [
    "#1 - API STANDS dor application programming interface , which is A set of definition and protocol\n",
    "# example gamil,google twitter api"
   ]
  },
  {
   "cell_type": "code",
   "execution_count": 3,
   "id": "86d310f8-6b5a-4f78-948f-c02a87c1d61b",
   "metadata": {
    "jp-MarkdownHeadingCollapsed": true,
    "tags": []
   },
   "outputs": [],
   "source": [
    "#2 advantage of Api\n",
    "#api allow for more efficient data distribution\n",
    " # disadvantage of Api\n",
    "    # once the api is comromised , all other application and systems become vulnerable"
   ]
  },
  {
   "cell_type": "code",
   "execution_count": 4,
   "id": "561580d8-49f0-470f-83d4-242a06171c27",
   "metadata": {},
   "outputs": [],
   "source": [
    "##3 api ia an interface that expose an application data to outside software , wheras web api are one type of api with stricter requirements"
   ]
  },
  {
   "cell_type": "code",
   "execution_count": null,
   "id": "f37d24a6-2b3f-4507-8c28-88c80b23e247",
   "metadata": {},
   "outputs": [],
   "source": [
    "##4"
   ]
  }
 ],
 "metadata": {
  "kernelspec": {
   "display_name": "Python 3 (ipykernel)",
   "language": "python",
   "name": "python3"
  },
  "language_info": {
   "codemirror_mode": {
    "name": "ipython",
    "version": 3
   },
   "file_extension": ".py",
   "mimetype": "text/x-python",
   "name": "python",
   "nbconvert_exporter": "python",
   "pygments_lexer": "ipython3",
   "version": "3.10.8"
  }
 },
 "nbformat": 4,
 "nbformat_minor": 5
}
